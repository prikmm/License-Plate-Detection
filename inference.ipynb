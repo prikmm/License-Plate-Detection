{
 "cells": [
  {
   "cell_type": "markdown",
   "metadata": {},
   "source": [
    "### Inference on Test set:"
   ]
  },
  {
   "cell_type": "code",
   "execution_count": 1,
   "metadata": {},
   "outputs": [
    {
     "name": "stdout",
     "output_type": "stream",
     "text": [
      "Requirement already satisfied: gdown in /home/priyammehta/miniconda3/envs/edge_env/lib/python3.9/site-packages (4.2.0)\n",
      "Requirement already satisfied: six in /home/priyammehta/miniconda3/envs/edge_env/lib/python3.9/site-packages (from gdown) (1.16.0)\n",
      "Requirement already satisfied: requests[socks] in /home/priyammehta/miniconda3/envs/edge_env/lib/python3.9/site-packages (from gdown) (2.26.0)\n",
      "Requirement already satisfied: filelock in /home/priyammehta/miniconda3/envs/edge_env/lib/python3.9/site-packages (from gdown) (3.4.0)\n",
      "Requirement already satisfied: beautifulsoup4 in /home/priyammehta/miniconda3/envs/edge_env/lib/python3.9/site-packages (from gdown) (4.10.0)\n",
      "Requirement already satisfied: tqdm in /home/priyammehta/miniconda3/envs/edge_env/lib/python3.9/site-packages (from gdown) (4.62.3)\n",
      "Requirement already satisfied: soupsieve>1.2 in /home/priyammehta/miniconda3/envs/edge_env/lib/python3.9/site-packages (from beautifulsoup4->gdown) (2.3.1)\n",
      "Requirement already satisfied: certifi>=2017.4.17 in /home/priyammehta/miniconda3/envs/edge_env/lib/python3.9/site-packages (from requests[socks]->gdown) (2021.10.8)\n",
      "Requirement already satisfied: urllib3<1.27,>=1.21.1 in /home/priyammehta/miniconda3/envs/edge_env/lib/python3.9/site-packages (from requests[socks]->gdown) (1.26.7)\n",
      "Requirement already satisfied: idna<4,>=2.5 in /home/priyammehta/miniconda3/envs/edge_env/lib/python3.9/site-packages (from requests[socks]->gdown) (3.3)\n",
      "Requirement already satisfied: charset-normalizer~=2.0.0 in /home/priyammehta/miniconda3/envs/edge_env/lib/python3.9/site-packages (from requests[socks]->gdown) (2.0.7)\n",
      "Requirement already satisfied: PySocks!=1.5.7,>=1.5.6 in /home/priyammehta/miniconda3/envs/edge_env/lib/python3.9/site-packages (from requests[socks]->gdown) (1.7.1)\n"
     ]
    },
    {
     "name": "stderr",
     "output_type": "stream",
     "text": [
      "Downloading...\n",
      "From: https://drive.google.com/uc?id=1ALTC356iZxLafkiRqG1AfvnM9UyDqYpe\n",
      "To: /home/priyammehta/EDGENeural_object_detection_assignment/YoloV5_files.zip\n",
      "100%|██████████| 379M/379M [01:47<00:00, 3.54MB/s]\n"
     ]
    }
   ],
   "source": [
    "!pip install gdown\n",
    "import gdown\n",
    "url = 'https://drive.google.com/uc?id=1ALTC356iZxLafkiRqG1AfvnM9UyDqYpe'\n",
    "output = 'YoloV5_files.zip'\n",
    "gdown.download(url, output, quiet=False)\n",
    "!unzip -q YoloV5_files.zip"
   ]
  },
  {
   "cell_type": "code",
   "execution_count": 2,
   "metadata": {},
   "outputs": [],
   "source": [
    "import os\n",
    "import sys\n",
    "import tensorflow as tf"
   ]
  },
  {
   "cell_type": "code",
   "execution_count": 3,
   "metadata": {},
   "outputs": [
    {
     "name": "stdout",
     "output_type": "stream",
     "text": [
      "Cloning into 'yolov5'...\n",
      "remote: Enumerating objects: 10008, done.\u001b[K\n",
      "remote: Total 10008 (delta 0), reused 0 (delta 0), pack-reused 10008\u001b[K\n",
      "Receiving objects: 100% (10008/10008), 10.34 MiB | 741.00 KiB/s, done.\n",
      "Resolving deltas: 100% (6940/6940), done.\n",
      "/home/priyammehta/EDGENeural_object_detection_assignment/yolov5\n"
     ]
    }
   ],
   "source": [
    "!git clone https://github.com/ultralytics/yolov5.git\n",
    "%cd yolov5"
   ]
  },
  {
   "cell_type": "code",
   "execution_count": 5,
   "metadata": {},
   "outputs": [],
   "source": [
    "test_images_folder = os.path.join(\"..\", \"License-Plate-Detection-Diff-Formats\", \"YoloV5_format\", \"test\", \"images\")\n",
    "tflite_model_folder = os.path.join(\"..\", \"yolo-models\", \"my-submission\")\n",
    "best_model_name = \"best_submission\"\n",
    "\n",
    "img_size = 448\n",
    "batch_size = 1\n",
    "width = img_size\n",
    "height = img_size\n",
    "channels = 3\n",
    "    \n",
    "int8 = False\n",
    "if int8:\n",
    "    quantization_lvl = \"-int8.tflite\"\n",
    "else:\n",
    "    quantization_lvl = \"-fp16.tflite\"\n",
    "\n",
    "tflite_model_path = os.path.join(tflite_model_folder, best_model_name+quantization_lvl)"
   ]
  },
  {
   "cell_type": "code",
   "execution_count": 6,
   "metadata": {},
   "outputs": [],
   "source": [
    "inference_command = f'''\n",
    "python detect.py --device cpu --source {test_images_folder} --weights {tflite_model_path} --img-size {img_size} --save-txt \n",
    "'''"
   ]
  },
  {
   "cell_type": "code",
   "execution_count": 7,
   "metadata": {},
   "outputs": [
    {
     "data": {
      "text/plain": [
       "'\\npython detect.py --device cpu --source ../License-Plate-Detection-Diff-Formats/YoloV5_format/test/images --weights ../yolo-models/my-submission/best_submission-fp16.tflite --img-size 448 --save-txt \\n'"
      ]
     },
     "execution_count": 7,
     "metadata": {},
     "output_type": "execute_result"
    }
   ],
   "source": [
    "inference_command"
   ]
  },
  {
   "cell_type": "code",
   "execution_count": 9,
   "metadata": {},
   "outputs": [
    {
     "name": "stdout",
     "output_type": "stream",
     "text": [
      "\u001b[34m\u001b[1mdetect: \u001b[0mweights=['../yolo-models/my-submission/best_submission-fp16.tflite'], source=../License-Plate-Detection-Diff-Formats/YoloV5_format/test/images, imgsz=[448, 448], conf_thres=0.25, iou_thres=0.45, max_det=1000, device=cpu, view_img=False, save_txt=True, save_conf=False, save_crop=False, nosave=False, classes=None, agnostic_nms=False, augment=False, visualize=False, update=False, project=runs/detect, name=exp, exist_ok=False, line_thickness=3, hide_labels=False, hide_conf=False, half=False, dnn=False\n",
      "YOLOv5 🚀 v6.0-103-g7a39803 torch 1.10.0+cu113 CPU\n",
      "\n",
      "Loading ../yolo-models/my-submission/best_submission-fp16.tflite for TensorFlow Lite inference...\n",
      "image 1/53 /home/priyammehta/EDGENeural_object_detection_assignment/License-Plate-Detection-Diff-Formats/YoloV5_format/test/images/car_105_jpg.rf.9b41223a8760f1dc5df1419664cf29fd.jpg: 448x448 1 class0, Done. (0.260s)\n",
      "image 2/53 /home/priyammehta/EDGENeural_object_detection_assignment/License-Plate-Detection-Diff-Formats/YoloV5_format/test/images/car_127_jpg.rf.bdc70718e7c215de2d8aaf8c923752d5.jpg: 448x448 1 class0, Done. (0.145s)\n",
      "image 3/53 /home/priyammehta/EDGENeural_object_detection_assignment/License-Plate-Detection-Diff-Formats/YoloV5_format/test/images/car_12_jpg.rf.d1645f4c72a9b9c3d382d1068bf9aeef.jpg: 448x448 1 class0, Done. (0.152s)\n",
      "image 4/53 /home/priyammehta/EDGENeural_object_detection_assignment/License-Plate-Detection-Diff-Formats/YoloV5_format/test/images/car_140_jpg.rf.b468da48d152d962fc614b14bb3f2e89.jpg: 448x448 1 class0, Done. (0.145s)\n",
      "image 5/53 /home/priyammehta/EDGENeural_object_detection_assignment/License-Plate-Detection-Diff-Formats/YoloV5_format/test/images/car_143_jpg.rf.dd0e53e315ce1cfb62e2a58f4325f3a8.jpg: 448x448 1 class0, Done. (0.150s)\n",
      "image 6/53 /home/priyammehta/EDGENeural_object_detection_assignment/License-Plate-Detection-Diff-Formats/YoloV5_format/test/images/car_147_jpg.rf.49d5728e808b8c98bcad0fb2b2f8ebb6.jpg: 448x448 1 class0, Done. (0.153s)\n",
      "image 7/53 /home/priyammehta/EDGENeural_object_detection_assignment/License-Plate-Detection-Diff-Formats/YoloV5_format/test/images/car_154_jpg.rf.a6204597e280021853d9cf5d1db11cc4.jpg: 448x448 1 class0, Done. (0.151s)\n",
      "image 8/53 /home/priyammehta/EDGENeural_object_detection_assignment/License-Plate-Detection-Diff-Formats/YoloV5_format/test/images/car_169_jpg.rf.80ae12e7a08975cec15f2c770c2f3d87.jpg: 448x448 1 class0, Done. (0.157s)\n",
      "image 9/53 /home/priyammehta/EDGENeural_object_detection_assignment/License-Plate-Detection-Diff-Formats/YoloV5_format/test/images/car_171_jpg.rf.1f773b6924f807df20683a3e756b2db8.jpg: 448x448 1 class0, Done. (0.148s)\n",
      "image 10/53 /home/priyammehta/EDGENeural_object_detection_assignment/License-Plate-Detection-Diff-Formats/YoloV5_format/test/images/car_185_jpg.rf.9104e6345054fd619c8ed594b308ee20.jpg: 448x448 1 class0, Done. (0.156s)\n",
      "image 11/53 /home/priyammehta/EDGENeural_object_detection_assignment/License-Plate-Detection-Diff-Formats/YoloV5_format/test/images/car_18_jpg.rf.f60a1fa83702e497de647568532727b0.jpg: 448x448 1 class0, Done. (0.165s)\n",
      "image 12/53 /home/priyammehta/EDGENeural_object_detection_assignment/License-Plate-Detection-Diff-Formats/YoloV5_format/test/images/car_198_jpg.rf.509960b9b8448ddacacfb33669de88e7.jpg: 448x448 1 class0, Done. (0.166s)\n",
      "image 13/53 /home/priyammehta/EDGENeural_object_detection_assignment/License-Plate-Detection-Diff-Formats/YoloV5_format/test/images/car_209_jpg.rf.169a4cf6672099be3219a2d0b696a8bb.jpg: 448x448 1 class0, Done. (0.170s)\n",
      "image 14/53 /home/priyammehta/EDGENeural_object_detection_assignment/License-Plate-Detection-Diff-Formats/YoloV5_format/test/images/car_222_jpg.rf.5cf1ddb99ddd7d5653169787ea4a0c7a.jpg: 448x448 1 class0, Done. (0.149s)\n",
      "image 15/53 /home/priyammehta/EDGENeural_object_detection_assignment/License-Plate-Detection-Diff-Formats/YoloV5_format/test/images/car_243_jpg.rf.ee79f82a62cc6283ee0611126f73f41b.jpg: 448x448 1 class0, Done. (0.141s)\n",
      "image 16/53 /home/priyammehta/EDGENeural_object_detection_assignment/License-Plate-Detection-Diff-Formats/YoloV5_format/test/images/car_245_jpg.rf.3fd421d8c355d8407bfc2b7e8fbbe580.jpg: 448x448 1 class0, Done. (0.165s)\n",
      "image 17/53 /home/priyammehta/EDGENeural_object_detection_assignment/License-Plate-Detection-Diff-Formats/YoloV5_format/test/images/car_246_jpg.rf.61e9fa93a6ae6797c2576bf75de90292.jpg: 448x448 1 class0, Done. (0.179s)\n",
      "image 18/53 /home/priyammehta/EDGENeural_object_detection_assignment/License-Plate-Detection-Diff-Formats/YoloV5_format/test/images/car_250_jpg.rf.9b415706f0341694d56f012c5c085f3a.jpg: 448x448 1 class0, Done. (0.164s)\n",
      "image 19/53 /home/priyammehta/EDGENeural_object_detection_assignment/License-Plate-Detection-Diff-Formats/YoloV5_format/test/images/car_252_jpg.rf.931d11bd8747fddec1f74845ef1d0165.jpg: 448x448 1 class0, Done. (0.145s)\n",
      "image 20/53 /home/priyammehta/EDGENeural_object_detection_assignment/License-Plate-Detection-Diff-Formats/YoloV5_format/test/images/car_254_jpg.rf.24cb6e0bea8e47f47eadce9bc3e1e1cb.jpg: 448x448 1 class0, Done. (0.148s)\n",
      "image 21/53 /home/priyammehta/EDGENeural_object_detection_assignment/License-Plate-Detection-Diff-Formats/YoloV5_format/test/images/car_265_jpg.rf.dca9bd7382e483f3de4a6c22a3533ea0.jpg: 448x448 1 class0, Done. (0.157s)\n",
      "image 22/53 /home/priyammehta/EDGENeural_object_detection_assignment/License-Plate-Detection-Diff-Formats/YoloV5_format/test/images/car_282_jpg.rf.e5070f2965e26c5468693e1bf67ea86d.jpg: 448x448 1 class0, Done. (0.152s)\n",
      "image 23/53 /home/priyammehta/EDGENeural_object_detection_assignment/License-Plate-Detection-Diff-Formats/YoloV5_format/test/images/car_286_jpg.rf.3b10c216fd0f1df62d06e6d52b37ba6d.jpg: 448x448 1 class0, Done. (0.162s)\n",
      "image 24/53 /home/priyammehta/EDGENeural_object_detection_assignment/License-Plate-Detection-Diff-Formats/YoloV5_format/test/images/car_2_jpg.rf.1ac0dfdf615d3344cc092b417e91ffb8.jpg: 448x448 1 class0, Done. (0.151s)\n",
      "image 25/53 /home/priyammehta/EDGENeural_object_detection_assignment/License-Plate-Detection-Diff-Formats/YoloV5_format/test/images/car_314_jpg.rf.2cd3c40a16fcd218c3715d65c4b5f427.jpg: 448x448 1 class0, Done. (0.159s)\n",
      "image 26/53 /home/priyammehta/EDGENeural_object_detection_assignment/License-Plate-Detection-Diff-Formats/YoloV5_format/test/images/car_326_jpg.rf.c7af0c88c4732d1cc213dcf2788b35b0.jpg: 448x448 2 class0s, Done. (0.159s)\n",
      "image 27/53 /home/priyammehta/EDGENeural_object_detection_assignment/License-Plate-Detection-Diff-Formats/YoloV5_format/test/images/car_334_jpg.rf.5b68223e4386414f411635b4dfcf7d43.jpg: 448x448 1 class0, Done. (0.148s)\n",
      "image 28/53 /home/priyammehta/EDGENeural_object_detection_assignment/License-Plate-Detection-Diff-Formats/YoloV5_format/test/images/car_341_jpg.rf.fe2b1f4bafb4dd891ce460402591795f.jpg: 448x448 1 class0, Done. (0.145s)\n",
      "image 29/53 /home/priyammehta/EDGENeural_object_detection_assignment/License-Plate-Detection-Diff-Formats/YoloV5_format/test/images/car_361_jpg.rf.b4746e3d840cd5ac24477b429a14b807.jpg: 448x448 Done. (0.145s)\n",
      "image 30/53 /home/priyammehta/EDGENeural_object_detection_assignment/License-Plate-Detection-Diff-Formats/YoloV5_format/test/images/car_37_jpg.rf.d53277ff6621b7e928d3bf65aaa85b49.jpg: 448x448 1 class0, Done. (0.150s)\n",
      "image 31/53 /home/priyammehta/EDGENeural_object_detection_assignment/License-Plate-Detection-Diff-Formats/YoloV5_format/test/images/car_395_jpg.rf.44521a015a919a2cdcf4c583b939bf2b.jpg: 448x448 1 class0, Done. (0.152s)\n",
      "image 32/53 /home/priyammehta/EDGENeural_object_detection_assignment/License-Plate-Detection-Diff-Formats/YoloV5_format/test/images/car_403_jpg.rf.3b96ec8ef92bf77caf07f0bdc6712299.jpg: 448x448 1 class0, Done. (0.151s)\n",
      "image 33/53 /home/priyammehta/EDGENeural_object_detection_assignment/License-Plate-Detection-Diff-Formats/YoloV5_format/test/images/car_405_jpg.rf.1b2c5cb9bd769081fb3c8ce465d2867a.jpg: 448x448 1 class0, Done. (0.151s)\n",
      "image 34/53 /home/priyammehta/EDGENeural_object_detection_assignment/License-Plate-Detection-Diff-Formats/YoloV5_format/test/images/car_425_jpg.rf.4757b914aefcd4b050befff8b930b35f.jpg: 448x448 1 class0, Done. (0.167s)\n",
      "image 35/53 /home/priyammehta/EDGENeural_object_detection_assignment/License-Plate-Detection-Diff-Formats/YoloV5_format/test/images/car_452_jpg.rf.f5d047ecc6b319ed68595c7d4e2f2aec.jpg: 448x448 1 class0, Done. (0.153s)\n",
      "image 36/53 /home/priyammehta/EDGENeural_object_detection_assignment/License-Plate-Detection-Diff-Formats/YoloV5_format/test/images/car_458_jpg.rf.afac938347b3f95c3304b7009cc0d496.jpg: 448x448 1 class0, Done. (0.147s)\n",
      "image 37/53 /home/priyammehta/EDGENeural_object_detection_assignment/License-Plate-Detection-Diff-Formats/YoloV5_format/test/images/car_463_jpg.rf.848dc3d01c19529707033b6068a1c669.jpg: 448x448 2 class0s, Done. (0.153s)\n",
      "image 38/53 /home/priyammehta/EDGENeural_object_detection_assignment/License-Plate-Detection-Diff-Formats/YoloV5_format/test/images/car_471_jpg.rf.e8f1030498d8cc7f29e558d4879bab5b.jpg: 448x448 1 class0, Done. (0.153s)\n",
      "image 39/53 /home/priyammehta/EDGENeural_object_detection_assignment/License-Plate-Detection-Diff-Formats/YoloV5_format/test/images/car_472_jpg.rf.734efd1edcaafab0c6c67da34e478360.jpg: 448x448 1 class0, Done. (0.147s)\n",
      "image 40/53 /home/priyammehta/EDGENeural_object_detection_assignment/License-Plate-Detection-Diff-Formats/YoloV5_format/test/images/car_526_jpg.rf.78961e0df97eb44e38f9c202bb10fcbd.jpg: 448x448 1 class0, Done. (0.152s)\n",
      "image 41/53 /home/priyammehta/EDGENeural_object_detection_assignment/License-Plate-Detection-Diff-Formats/YoloV5_format/test/images/car_543_jpg.rf.580d0819a678bf8d04d15ee537eb69ac.jpg: 448x448 1 class0, Done. (0.149s)\n",
      "image 42/53 /home/priyammehta/EDGENeural_object_detection_assignment/License-Plate-Detection-Diff-Formats/YoloV5_format/test/images/car_548_jpg.rf.ddf6b7de0b26841b2de6387f997321b0.jpg: 448x448 2 class0s, Done. (0.149s)\n",
      "image 43/53 /home/priyammehta/EDGENeural_object_detection_assignment/License-Plate-Detection-Diff-Formats/YoloV5_format/test/images/car_571_jpg.rf.b9e73e2a65c40b630fbd69bd63359238.jpg: 448x448 1 class0, Done. (0.142s)\n",
      "image 44/53 /home/priyammehta/EDGENeural_object_detection_assignment/License-Plate-Detection-Diff-Formats/YoloV5_format/test/images/car_574_jpg.rf.efe2dbae2df878efa9a57b2ef94ee7b6.jpg: 448x448 1 class0, Done. (0.144s)\n",
      "image 45/53 /home/priyammehta/EDGENeural_object_detection_assignment/License-Plate-Detection-Diff-Formats/YoloV5_format/test/images/car_595_jpg.rf.3cb204b9798f982003f8c675299f2092.jpg: 448x448 2 class0s, Done. (0.153s)\n",
      "image 46/53 /home/priyammehta/EDGENeural_object_detection_assignment/License-Plate-Detection-Diff-Formats/YoloV5_format/test/images/car_599_jpg.rf.02952007e591ddc7a2ff338750820336.jpg: 448x448 1 class0, Done. (0.158s)\n",
      "image 47/53 /home/priyammehta/EDGENeural_object_detection_assignment/License-Plate-Detection-Diff-Formats/YoloV5_format/test/images/car_611_jpg.rf.2bc0bb3317372023e6dd003a46596c75.jpg: 448x448 1 class0, Done. (0.183s)\n",
      "image 48/53 /home/priyammehta/EDGENeural_object_detection_assignment/License-Plate-Detection-Diff-Formats/YoloV5_format/test/images/car_633_jpg.rf.ef2b37d564f14826628a43a883d06c29.jpg: 448x448 2 class0s, Done. (0.163s)\n",
      "image 49/53 /home/priyammehta/EDGENeural_object_detection_assignment/License-Plate-Detection-Diff-Formats/YoloV5_format/test/images/car_642_jpg.rf.b2a155817a6fdf979994032856c98d5f.jpg: 448x448 1 class0, Done. (0.162s)\n",
      "image 50/53 /home/priyammehta/EDGENeural_object_detection_assignment/License-Plate-Detection-Diff-Formats/YoloV5_format/test/images/car_645_jpg.rf.b78c363b2ef9a3ad367a1a64da17a84f.jpg: 448x448 1 class0, Done. (0.129s)\n",
      "image 51/53 /home/priyammehta/EDGENeural_object_detection_assignment/License-Plate-Detection-Diff-Formats/YoloV5_format/test/images/car_651_jpg.rf.648b019436560ef7504bbd20bf87facf.jpg: 448x448 1 class0, Done. (0.131s)\n",
      "image 52/53 /home/priyammehta/EDGENeural_object_detection_assignment/License-Plate-Detection-Diff-Formats/YoloV5_format/test/images/car_72_jpg.rf.b016b69b6f416cf891bc0cefb919324a.jpg: 448x448 1 class0, Done. (0.147s)\n",
      "image 53/53 /home/priyammehta/EDGENeural_object_detection_assignment/License-Plate-Detection-Diff-Formats/YoloV5_format/test/images/car_73_jpg.rf.b7aa990522f629d9014688706faf35b6.jpg: 448x448 1 class0, Done. (0.163s)\n",
      "Speed: 1.4ms pre-process, 155.4ms inference, 5.0ms NMS per image at shape (1, 3, 448, 448)\n",
      "Results saved to \u001b[1mruns/detect/exp\u001b[0m\n",
      "52 labels saved to runs/detect/exp/labels\n"
     ]
    }
   ],
   "source": [
    "\n",
    "!{inference_command}"
   ]
  },
  {
   "cell_type": "markdown",
   "metadata": {},
   "source": [
    "### Real-Time Inference using Front Cam:"
   ]
  },
  {
   "cell_type": "code",
   "execution_count": 10,
   "metadata": {},
   "outputs": [],
   "source": [
    "real_time_inference_command = f'''\n",
    "python detect.py --device cpu --source 0 --weights {tflite_model_path} --img-size {img_size} --save-txt \n",
    "'''"
   ]
  },
  {
   "cell_type": "code",
   "execution_count": null,
   "metadata": {},
   "outputs": [],
   "source": [
    "!{real_time_inference_command}"
   ]
  }
 ],
 "metadata": {
  "interpreter": {
   "hash": "2ae2f571d7f67440b9303b90fb8308adf855be380b1bbd7acced2f516b88635e"
  },
  "kernelspec": {
   "display_name": "Python 3.9.7 64-bit ('edge_env': conda)",
   "language": "python",
   "name": "python3"
  },
  "language_info": {
   "codemirror_mode": {
    "name": "ipython",
    "version": 3
   },
   "file_extension": ".py",
   "mimetype": "text/x-python",
   "name": "python",
   "nbconvert_exporter": "python",
   "pygments_lexer": "ipython3",
   "version": "3.9.7"
  },
  "orig_nbformat": 4
 },
 "nbformat": 4,
 "nbformat_minor": 2
}
